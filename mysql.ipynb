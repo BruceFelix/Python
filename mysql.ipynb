{
 "metadata": {
  "language_info": {
   "codemirror_mode": {
    "name": "ipython",
    "version": 3
   },
   "file_extension": ".py",
   "mimetype": "text/x-python",
   "name": "python",
   "nbconvert_exporter": "python",
   "pygments_lexer": "ipython3",
   "version": "3.9.2"
  },
  "orig_nbformat": 2,
  "kernelspec": {
   "name": "python392jvsc74a57bd0ac59ebe37160ed0dfa835113d9b8498d9f09ceb179beaac4002f036b9467c963",
   "display_name": "Python 3.9.2 64-bit"
  },
  "metadata": {
   "interpreter": {
    "hash": "ac59ebe37160ed0dfa835113d9b8498d9f09ceb179beaac4002f036b9467c963"
   }
  }
 },
 "nbformat": 4,
 "nbformat_minor": 2,
 "cells": [
  {
   "cell_type": "code",
   "execution_count": 9,
   "metadata": {},
   "outputs": [
    {
     "output_type": "stream",
     "name": "stdout",
     "text": [
      "Laptop Table Created Successfully\nMySQL connection is closed\n"
     ]
    }
   ],
   "source": [
    "import mysql.connector\n",
    "from mysql.connector import Error\n",
    "\n",
    "try:\n",
    "    connection = mysql.connector.connect(\n",
    "        host = \"localhost\",\n",
    "        database = \"Electronics\",\n",
    "        user = \"root\",\n",
    "        password = \"dbms\"\n",
    "    )\n",
    "    mySql_Create_Table_Query = \"\"\"CREATE TABLE Laptop(\n",
    "                                    Id int(11) NOT NULL,\n",
    "                                    Name Varchar(250) NOT NULL,\n",
    "                                    Price float NOT NULL,\n",
    "                                    Purchase_date Date NOT NULL,\n",
    "                                    PRIMARY KEY(Id))\"\"\"\n",
    "    cursor = connection.cursor()\n",
    "    result = cursor.execute(mySql_Create_Table_Query)\n",
    "    print(\"Laptop Table Created Successfully\")\n",
    "except Error as e:\n",
    "    print(\"Failed to create table in MySQL: {}\" .format(error))\n",
    "finally:\n",
    "    if(connection.is_connected()):\n",
    "        cursor.close()\n",
    "        connection.close()\n",
    "        print(\"MySQL connection is closed\")"
   ]
  },
  {
   "cell_type": "code",
   "execution_count": 3,
   "metadata": {},
   "outputs": [
    {
     "output_type": "stream",
     "name": "stdout",
     "text": [
      "<mysql.connector.connection_cext.CMySQLConnection object at 0x000002BD492B5940>\n"
     ]
    }
   ],
   "source": [
    "import mysql.connector\n",
    "db = mysql.connector.connect(\n",
    "        host = \"localhost\",\n",
    "        database = \"bill\",\n",
    "        user = \"root\",\n",
    "        password = \"dbms\"\n",
    ")\n",
    "# cursor = db.cursor()\n",
    "print(db)\n",
    "# cursor.execute(\"CREATE TABLE Person (Name VARCHAR(50), age smallint UNSIGNED, personID int PRIMARY KEY AUTO_INCREMENT) \")\n",
    "# cursor.execute(\"INSERT INTO Person (Name, age) VALUES(%s, %s)\",(\"Joe\", 22))\n",
    "# db.commit()\n",
    "# cursor.execute(\"SELECT * FROM Person\")\n",
    "# for x in cursor:\n",
    "#     print(x)"
   ]
  },
  {
   "cell_type": "code",
   "execution_count": 1,
   "metadata": {},
   "outputs": [
    {
     "output_type": "stream",
     "name": "stdout",
     "text": [
      "('movie_id', b'int', 'NO', 'PRI', None, '')\n('reviewer_id', b'int', 'NO', 'PRI', None, '')\n('rating', b'decimal(2,1)', 'YES', '', None, '')\n"
     ]
    }
   ],
   "source": [
    "from getpass import getpass\n",
    "from mysql.connector import connect, Error\n",
    "\n",
    "try:\n",
    "    connection =  connect(\n",
    "        host = \"localhost\",\n",
    "        user = getpass(\"Enter username: \"),\n",
    "        password = getpass(\"Enter password: \"),#obscures the input\n",
    "        database = \"online_movie_rating\"\n",
    "    )\n",
    "    # # print(connection)#To confirm the connection is up\n",
    "    # create_db_query = \"CREATE DATABASE online_movie_rating\"\n",
    "    # with connection.cursor() as cursor:\n",
    "    #     cursor.execute(create_db_query)\n",
    "    # show_db_query = \"SHOW DATABASES\"\n",
    "    # with connection.cursor() as cursor:\n",
    "    #     cursor.execute(show_db_query)\n",
    "    #     for db in cursor:\n",
    "    #         print(db)\n",
    "except Error as e:\n",
    "    print(e)\n",
    "create_movies_table_query = \"\"\"\n",
    "        CREATE TABLE IF NOT EXISTS movies(\n",
    "            id INT AUTO_INCREMENT PRIMARY KEY,\n",
    "            title VARCHAR(100),\n",
    "            release_year YEAR(4),\n",
    "            genre VARCHAR(100),\n",
    "            collection_in_mil INT\n",
    "        )\n",
    "        \"\"\"\n",
    "create_reviewers_table_query = \"\"\"\n",
    "CREATE TABLE IF NOT EXISTS reviewers (\n",
    "    id INT AUTO_INCREMENT PRIMARY KEY,\n",
    "    first_name VARCHAR(100),\n",
    "    last_name VARCHAR(100)\n",
    ")\n",
    "\"\"\"\n",
    "create_ratings_table_query = \"\"\"\n",
    "CREATE TABLE IF NOT EXISTS ratings (\n",
    "    movie_id INT,\n",
    "    reviewer_id INT,\n",
    "    rating DECIMAL(2,1),\n",
    "    FOREIGN KEY(movie_id) REFERENCES movies(id),\n",
    "    FOREIGN KEY(reviewer_id) REFERENCES reviewers(id),\n",
    "    PRIMARY KEY(movie_id, reviewer_id)\n",
    ")\n",
    "\"\"\"\n",
    "alter_table_query = \"\"\"\n",
    "ALTER TABLE MOVIES\n",
    "MODIFY COLUMN collection_in_mil DECIMAL(4,1)\n",
    "\"\"\"\n",
    "drop_table_query = \"DROP TABLE ratings\"\n",
    "insert_movies_query = \"\"\"\n",
    "INSERT INTO movies (title, release_year, genre, collection_in_mil)\n",
    "VALUES\n",
    "    (\"Forrest Gump\", 1994, \"Drama\", 330.2),\n",
    "    (\"3 Idiots\", 2009, \"Drama\", 2.4),\n",
    "    (\"Eternal Sunshine of the Spotless Mind\", 2004, \"Drama\", 34.5),\n",
    "    (\"Good Will Hunting\", 1997, \"Drama\", 138.1),\n",
    "    (\"Skyfall\", 2012, \"Action\", 304.6),\n",
    "    (\"Gladiator\", 2000, \"Action\", 188.7),\n",
    "    (\"Black\", 2005, \"Drama\", 3.0),\n",
    "    (\"Titanic\", 1997, \"Romance\", 659.2),\n",
    "    (\"The Shawshank Redemption\", 1994, \"Drama\",28.4),\n",
    "    (\"Udaan\", 2010, \"Drama\", 1.5),\n",
    "    (\"Home Alone\", 1990, \"Comedy\", 286.9),\n",
    "    (\"Casablanca\", 1942, \"Romance\", 1.0),\n",
    "    (\"Avengers: Endgame\", 2019, \"Action\", 858.8),\n",
    "    (\"Night of the Living Dead\", 1968, \"Horror\", 2.5),\n",
    "    (\"The Godfather\", 1972, \"Crime\", 135.6),\n",
    "    (\"Haider\", 2014, \"Action\", 4.2),\n",
    "    (\"Inception\", 2010, \"Adventure\", 293.7),\n",
    "    (\"Evil\", 2003, \"Horror\", 1.3),\n",
    "    (\"Toy Story 4\", 2019, \"Animation\", 434.9),\n",
    "    (\"Air Force One\", 1997, \"Drama\", 138.1),\n",
    "    (\"The Dark Knight\", 2008, \"Action\",535.4),\n",
    "    (\"Bhaag Milkha Bhaag\", 2013, \"Sport\", 4.1),\n",
    "    (\"The Lion King\", 1994, \"Animation\", 423.6),\n",
    "    (\"Pulp Fiction\", 1994, \"Crime\", 108.8),\n",
    "    (\"Kai Po Che\", 2013, \"Sport\", 6.0),\n",
    "    (\"Beasts of No Nation\", 2015, \"War\", 1.4),\n",
    "    (\"Andadhun\", 2018, \"Thriller\", 2.9),\n",
    "    (\"The Silence of the Lambs\", 1991, \"Crime\", 68.2),\n",
    "    (\"Deadpool\", 2016, \"Action\", 363.6),\n",
    "    (\"Drishyam\", 2015, \"Mystery\", 3.0)\n",
    "\"\"\"\n",
    "insert_ratings_query = \"\"\"\n",
    "INSERT INTO ratings\n",
    "(rating, movie_id, reviewer_id)\n",
    "VALUES ( %s, %s, %s)\n",
    "\"\"\"\n",
    "ratings_records = [\n",
    "    (6.4, 17, 5), (5.6, 19, 1), (6.3, 22, 14), (5.1, 21, 17),\n",
    "    (5.0, 5, 5), (6.5, 21, 5), (8.5, 30, 13), (9.7, 6, 4),\n",
    "    (8.5, 24, 12), (9.9, 14, 9), (8.7, 26, 14), (9.9, 6, 10),\n",
    "    (5.1, 30, 6), (5.4, 18, 16), (6.2, 6, 20), (7.3, 21, 19),\n",
    "    (8.1, 17, 18), (5.0, 7, 2), (9.8, 23, 3), (8.0, 22, 9),\n",
    "    (8.5, 11, 13), (5.0, 5, 11), (5.7, 8, 2), (7.6, 25, 19),\n",
    "    (5.2, 18, 15), (9.7, 13, 3), (5.8, 18, 8), (5.8, 30, 15),\n",
    "    (8.4, 21, 18), (6.2, 23, 16), (7.0, 10, 18), (9.5, 30, 20),\n",
    "    (8.9, 3, 19), (6.4, 12, 2), (7.8, 12, 22), (9.9, 15, 13),\n",
    "    (7.5, 20, 17), (9.0, 25, 6), (8.5, 23, 2), (5.3, 30, 17),\n",
    "    (6.4, 5, 10), (8.1, 5, 21), (5.7, 22, 1), (6.3, 28, 4),\n",
    "    (9.8, 13, 1)\n",
    "]\n",
    "cursor = connection.cursor()\n",
    "cursor.execute(create_movies_table_query)\n",
    "cursor.execute(create_reviewers_table_query)\n",
    "cursor.execute(create_ratings_table_query)\n",
    "cursor.execute(alter_table_query)\n",
    "cursor.execute(drop_table_query)\n",
    "cursor.execute(insert_movies_query)\n",
    "cursor.execute(insert_ratings_query)\n",
    "connection.commit()\n",
    "\n",
    "# show_table_query = \"DESCRIBE ratings\"\n",
    "# cursor.execute(show_table_query)\n",
    "# result = cursor.fetchall()\n",
    "# for row in result:\n",
    "#     print(row)"
   ]
  },
  {
   "cell_type": "code",
   "execution_count": null,
   "metadata": {},
   "outputs": [],
   "source": []
  }
 ]
}
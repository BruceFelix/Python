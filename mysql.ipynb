{
 "metadata": {
  "language_info": {
   "codemirror_mode": {
    "name": "ipython",
    "version": 3
   },
   "file_extension": ".py",
   "mimetype": "text/x-python",
   "name": "python",
   "nbconvert_exporter": "python",
   "pygments_lexer": "ipython3",
   "version": "3.9.2"
  },
  "orig_nbformat": 2,
  "kernelspec": {
   "name": "python392jvsc74a57bd0ac59ebe37160ed0dfa835113d9b8498d9f09ceb179beaac4002f036b9467c963",
   "display_name": "Python 3.9.2 64-bit"
  },
  "metadata": {
   "interpreter": {
    "hash": "ac59ebe37160ed0dfa835113d9b8498d9f09ceb179beaac4002f036b9467c963"
   }
  }
 },
 "nbformat": 4,
 "nbformat_minor": 2,
 "cells": [
  {
   "cell_type": "code",
   "execution_count": 9,
   "metadata": {},
   "outputs": [
    {
     "output_type": "stream",
     "name": "stdout",
     "text": [
      "Laptop Table Created Successfully\nMySQL connection is closed\n"
     ]
    }
   ],
   "source": [
    "import mysql.connector\n",
    "from mysql.connector import Error\n",
    "\n",
    "try:\n",
    "    connection = mysql.connector.connect(\n",
    "        host = \"localhost\",\n",
    "        database = \"Electronics\",\n",
    "        user = \"root\",\n",
    "        password = \"dbms\"\n",
    "    )\n",
    "    mySql_Create_Table_Query = \"\"\"CREATE TABLE Laptop(\n",
    "                                    Id int(11) NOT NULL,\n",
    "                                    Name Varchar(250) NOT NULL,\n",
    "                                    Price float NOT NULL,\n",
    "                                    Purchase_date Date NOT NULL,\n",
    "                                    PRIMARY KEY(Id))\"\"\"\n",
    "    cursor = connection.cursor()\n",
    "    result = cursor.execute(mySql_Create_Table_Query)\n",
    "    print(\"Laptop Table Created Successfully\")\n",
    "except Error as e:\n",
    "    print(\"Failed to create table in MySQL: {}\" .format(error))\n",
    "finally:\n",
    "    if(connection.is_connected()):\n",
    "        cursor.close()\n",
    "        connection.close()\n",
    "        print(\"MySQL connection is closed\")"
   ]
  },
  {
   "cell_type": "code",
   "execution_count": 3,
   "metadata": {},
   "outputs": [
    {
     "output_type": "stream",
     "name": "stdout",
     "text": [
      "<mysql.connector.connection_cext.CMySQLConnection object at 0x000002BD492B5940>\n"
     ]
    }
   ],
   "source": [
    "import mysql.connector\n",
    "db = mysql.connector.connect(\n",
    "        host = \"localhost\",\n",
    "        database = \"bill\",\n",
    "        user = \"root\",\n",
    "        password = \"dbms\"\n",
    ")\n",
    "# cursor = db.cursor()\n",
    "print(db)\n",
    "# cursor.execute(\"CREATE TABLE Person (Name VARCHAR(50), age smallint UNSIGNED, personID int PRIMARY KEY AUTO_INCREMENT) \")\n",
    "# cursor.execute(\"INSERT INTO Person (Name, age) VALUES(%s, %s)\",(\"Joe\", 22))\n",
    "# db.commit()\n",
    "# cursor.execute(\"SELECT * FROM Person\")\n",
    "# for x in cursor:\n",
    "#     print(x)"
   ]
  },
  {
   "cell_type": "code",
   "execution_count": 8,
   "metadata": {},
   "outputs": [
    {
     "output_type": "stream",
     "name": "stdout",
     "text": [
      "('bill',)\n('electronics',)\n('information_schema',)\n('mysql',)\n('online_movie_rating',)\n('performance_schema',)\n('sakila',)\n('sys',)\n('testdatabase',)\n('world',)\n"
     ]
    }
   ],
   "source": [
    "from getpass import getpass\n",
    "from mysql.connector import connect, Error\n",
    "\n",
    "try:\n",
    "    with connect(\n",
    "        host = \"localhost\",\n",
    "        user = getpass(\"Enter username: \"),\n",
    "        password = getpass(\"Enter password: \"),#obscures the input\n",
    "        # database = input(\"Enter database: \")\n",
    "    ) as connection:\n",
    "        # # print(connection)#To confirm the connection is up\n",
    "        # create_db_query = \"CREATE DATABASE online_movie_rating\"\n",
    "        # with connection.cursor() as cursor:\n",
    "        #     cursor.execute(create_db_query)\n",
    "        show_db_query = \"SHOW DATABASES\"\n",
    "        with connection.cursor() as cursor:\n",
    "            cursor.execute(show_db_query)\n",
    "            for db in cursor:\n",
    "                print(db)\n",
    "except Error as e:\n",
    "    print(e)"
   ]
  },
  {
   "cell_type": "code",
   "execution_count": null,
   "metadata": {},
   "outputs": [],
   "source": []
  }
 ]
}